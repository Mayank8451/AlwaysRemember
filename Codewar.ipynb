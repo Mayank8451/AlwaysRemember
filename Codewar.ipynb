{
  "nbformat": 4,
  "nbformat_minor": 0,
  "metadata": {
    "colab": {
      "provenance": [],
      "authorship_tag": "ABX9TyNemItp8Zhcmj6syh27p6B2",
      "include_colab_link": true
    },
    "kernelspec": {
      "name": "python3",
      "display_name": "Python 3"
    },
    "language_info": {
      "name": "python"
    }
  },
  "cells": [
    {
      "cell_type": "markdown",
      "metadata": {
        "id": "view-in-github",
        "colab_type": "text"
      },
      "source": [
        "<a href=\"https://colab.research.google.com/github/Mayank8451/AlwaysRemember/blob/master/Codewar.ipynb\" target=\"_parent\"><img src=\"https://colab.research.google.com/assets/colab-badge.svg\" alt=\"Open In Colab\"/></a>"
      ]
    },
    {
      "cell_type": "code",
      "source": [],
      "metadata": {
        "id": "KlEenCCY0ASn"
      },
      "execution_count": null,
      "outputs": []
    },
    {
      "cell_type": "code",
      "source": [
        "def reverse(arr):\n",
        "  for i in range(0, int(len(arr)/2)):\n",
        "    other = len(arr)-i-1\n",
        "    temp = arr[i]\n",
        "    arr[i] = arr[other]\n",
        "    arr[other] = temp \n",
        "  print(arr)  \n",
        "\n",
        "arr = [1,2,3,4]\n",
        "reverse(arr)"
      ],
      "metadata": {
        "colab": {
          "base_uri": "https://localhost:8080/"
        },
        "id": "hdigt-HoctDG",
        "outputId": "c98be391-db04-4e51-b36d-f078d1833c08"
      },
      "execution_count": null,
      "outputs": [
        {
          "output_type": "stream",
          "name": "stdout",
          "text": [
            "[4, 3, 2, 1]\n"
          ]
        }
      ]
    },
    {
      "cell_type": "code",
      "source": [
        "def dis(price, dis):\n",
        "  return (price/100)*dis + price\n",
        "\n",
        "dis(100, 20)\n",
        "dis(150, 10)\n"
      ],
      "metadata": {
        "colab": {
          "base_uri": "https://localhost:8080/"
        },
        "id": "etW6TN6xfHnn",
        "outputId": "67c46388-4276-47d8-88b9-f4b1e85d6c18"
      },
      "execution_count": null,
      "outputs": [
        {
          "output_type": "execute_result",
          "data": {
            "text/plain": [
              "165.0"
            ]
          },
          "metadata": {},
          "execution_count": 11
        }
      ]
    },
    {
      "cell_type": "code",
      "source": [
        "def asc_des_none(lst, s):\n",
        "  if s == \"Asc\" or s == \"asc\":\n",
        "    return sorted(lst)\n",
        "  elif s == \"Des\" or s == \"des\":\n",
        "    return sorted(lst, reverse=True)\n",
        "  elif s == \"None\" or s == \"none\":\n",
        "    return lst\n",
        "  else:\n",
        "    return \"Error\"      "
      ],
      "metadata": {
        "id": "JCIc_xSex8uc"
      },
      "execution_count": null,
      "outputs": []
    },
    {
      "cell_type": "code",
      "source": [
        "print(asc_des_none([9,56,88,1,3,15,14], \"none\"))"
      ],
      "metadata": {
        "colab": {
          "base_uri": "https://localhost:8080/"
        },
        "id": "gONg97TCzHHi",
        "outputId": "7fc38ed3-f2b7-49b2-f95e-bd2b3947a31d"
      },
      "execution_count": null,
      "outputs": [
        {
          "output_type": "stream",
          "name": "stdout",
          "text": [
            "[9, 56, 88, 1, 3, 15, 14]\n"
          ]
        }
      ]
    },
    {
      "cell_type": "code",
      "source": [
        "# invert Colors "
      ],
      "metadata": {
        "id": "SyG0EqrTzbkW"
      },
      "execution_count": null,
      "outputs": []
    },
    {
      "cell_type": "code",
      "source": [
        "def color_invert(rgb):\n",
        "  inverted = tuple(255 - value for value in rgb)\n",
        "  return inverted"
      ],
      "metadata": {
        "id": "mWXuhEugzVa1"
      },
      "execution_count": null,
      "outputs": []
    },
    {
      "cell_type": "code",
      "source": [
        "print(color_invert((255, )))"
      ],
      "metadata": {
        "colab": {
          "base_uri": "https://localhost:8080/"
        },
        "id": "4sAQGuAo0vOn",
        "outputId": "85726d0e-7649-4178-ade3-ec6e578ff487"
      },
      "execution_count": null,
      "outputs": [
        {
          "output_type": "stream",
          "name": "stdout",
          "text": [
            "(0,)\n"
          ]
        }
      ]
    },
    {
      "cell_type": "code",
      "source": [
        "def damage(damage, speed, time):\n",
        "   if damage < 0 or speed < 0:\n",
        "    return \"invalid\"  \n",
        "\n",
        "\n",
        "   if time == \"second\":\n",
        "        return damage * speed\n",
        "   elif time == \"minute\":\n",
        "        return damage * speed * 60\n",
        "   elif time == \"hour\":\n",
        "        return damage * speed * 60 * 60\n",
        "    \n",
        "      \n",
        "\n",
        "\n"
      ],
      "metadata": {
        "id": "vO1DiuvE08tU"
      },
      "execution_count": null,
      "outputs": []
    },
    {
      "cell_type": "code",
      "source": [
        "print(damage(-10, 45, \"second\"))\n"
      ],
      "metadata": {
        "colab": {
          "base_uri": "https://localhost:8080/"
        },
        "id": "0Sq7eKg72l9_",
        "outputId": "573bdc19-4b09-48b9-f840-ad89a496b2d3"
      },
      "execution_count": null,
      "outputs": [
        {
          "output_type": "stream",
          "name": "stdout",
          "text": [
            "invalid\n"
          ]
        }
      ]
    },
    {
      "cell_type": "code",
      "source": [
        "print(damage(80, 5, \"second\"))\n",
        "print(damage(75, 2, \"minute\"))\n",
        "print(damage(-80, 5, \"hour\"))"
      ],
      "metadata": {
        "colab": {
          "base_uri": "https://localhost:8080/"
        },
        "id": "Cfim8kAS2sQe",
        "outputId": "7a1446ff-3f1d-4c81-b594-917e92b88fbe"
      },
      "execution_count": null,
      "outputs": [
        {
          "output_type": "stream",
          "name": "stdout",
          "text": [
            "400\n",
            "9000\n",
            "invalid\n"
          ]
        }
      ]
    },
    {
      "cell_type": "code",
      "source": [
        "def interview(times, total_time):\n",
        "  if len(times) != 8:\n",
        "    return \"dis\"\n",
        "\n",
        "  time_limits = [5, 5, 10, 10, 15, 15, 20, 20]\n",
        "  max_total_time = 120 + 20\n",
        "\n",
        "  for i in range(8):\n",
        "    if times[i] > time_limits[i]:\n",
        "      return \"dis\"  \n",
        "\n",
        "  if sum(times) > total_time or total_time > max_total_time:\n",
        "    return \"dis\"\n",
        "\n",
        "  return \"qua\"      "
      ],
      "metadata": {
        "id": "PNwLE4jc3Hfq"
      },
      "execution_count": null,
      "outputs": []
    },
    {
      "cell_type": "code",
      "source": [
        "print(interview([5,5,8,1,1,5,10,20], 70))"
      ],
      "metadata": {
        "colab": {
          "base_uri": "https://localhost:8080/"
        },
        "id": "6yerorqeS7uS",
        "outputId": "e61a6227-d95b-4bb8-9c82-1160338eff30"
      },
      "execution_count": null,
      "outputs": [
        {
          "output_type": "stream",
          "name": "stdout",
          "text": [
            "qua\n"
          ]
        }
      ]
    },
    {
      "cell_type": "code",
      "source": [
        "def stutter(word):\n",
        "  if len(word) < 2:\n",
        "    return word\n",
        "\n",
        "  first_two_letters = word[:2]\n",
        "  stuttered_word = (first_two_letters + \"... \") * 2 + word + \"?\"\n",
        "  return stuttered_word   "
      ],
      "metadata": {
        "id": "xu3_eJgoTOs-"
      },
      "execution_count": null,
      "outputs": []
    },
    {
      "cell_type": "code",
      "source": [
        "print(stutter(\"qascvbnjytrds\"))"
      ],
      "metadata": {
        "colab": {
          "base_uri": "https://localhost:8080/"
        },
        "id": "aQXwLSsVUMYY",
        "outputId": "0434ff09-ddd4-4d81-ae75-d61c015cc05e"
      },
      "execution_count": null,
      "outputs": [
        {
          "output_type": "stream",
          "name": "stdout",
          "text": [
            "qa... qa... qascvbnjytrds?\n"
          ]
        }
      ]
    },
    {
      "cell_type": "code",
      "source": [
        "def split(num):\n",
        "  half = num // 2\n",
        "  if num % 2 == 1:\n",
        "    return [half, half + 1]\n",
        "  else:\n",
        "    return [half, half]   "
      ],
      "metadata": {
        "id": "wzGgIZNPUSEU"
      },
      "execution_count": null,
      "outputs": []
    },
    {
      "cell_type": "code",
      "source": [
        "print(split(8954))"
      ],
      "metadata": {
        "colab": {
          "base_uri": "https://localhost:8080/"
        },
        "id": "Nje0xpedVbC7",
        "outputId": "968abfa7-fb91-48ba-c2bc-cb1a051d7714"
      },
      "execution_count": null,
      "outputs": [
        {
          "output_type": "stream",
          "name": "stdout",
          "text": [
            "[4477, 4477]\n"
          ]
        }
      ]
    },
    {
      "cell_type": "code",
      "source": [
        "# def is_cuzon(n, m):\n",
        "#   if\n",
        "#    a =  n ** m + 1 \n",
        "#    b  = n * m + 1 \n",
        "#    a % b == 0 :\n",
        "#     return True\n",
        "#   else:\n",
        "#     return False\n",
        "\n",
        "def is_curzon(num):\n",
        "  numerator = 2 ** num + 1\n",
        "  demoninator = 2 * num + 1\n",
        "  return numerator % demoninator == 0\n"
      ],
      "metadata": {
        "id": "TvD9SHq_V3gW"
      },
      "execution_count": null,
      "outputs": []
    },
    {
      "cell_type": "code",
      "source": [
        "def fact(n):\n",
        "  if n == 0:\n",
        "    return 1\n",
        "  else: \n",
        "    return n * fact(n-1)  \n"
      ],
      "metadata": {
        "id": "Ky2Shg4NWwob"
      },
      "execution_count": null,
      "outputs": []
    },
    {
      "cell_type": "code",
      "source": [
        "print(fact(25))"
      ],
      "metadata": {
        "colab": {
          "base_uri": "https://localhost:8080/"
        },
        "id": "rA5JocZvYCyy",
        "outputId": "e75f76f8-18e0-41cd-b79d-45783dffcbfe"
      },
      "execution_count": null,
      "outputs": [
        {
          "output_type": "stream",
          "name": "stdout",
          "text": [
            "15511210043330985984000000\n"
          ]
        }
      ]
    },
    {
      "cell_type": "code",
      "source": [
        "def security(data):\n",
        "  money_index = data.find(\"$\")\n",
        "  thief_index = data.find(\"T\")\n",
        "  guard_index = data.find(\"G\")\n",
        "\n",
        "  if (thief_index < money_index < guard_index) or (thief_index > money_index > guard_index):\n",
        "    return \"ALARM!\"\n",
        "  else:\n",
        "    return \"Safe\"  "
      ],
      "metadata": {
        "id": "F4WNyv5wYFbC"
      },
      "execution_count": null,
      "outputs": []
    },
    {
      "cell_type": "code",
      "source": [
        "print(security(\"XXXXTTXxxGWQDF$\"))"
      ],
      "metadata": {
        "colab": {
          "base_uri": "https://localhost:8080/"
        },
        "id": "8B5CA3qkaNbk",
        "outputId": "4eeba597-1a29-4fc5-cd68-c00b250be21a"
      },
      "execution_count": null,
      "outputs": [
        {
          "output_type": "stream",
          "name": "stdout",
          "text": [
            "Safe\n"
          ]
        }
      ]
    },
    {
      "cell_type": "code",
      "source": [
        "#Find the parity outlier\n",
        "\n",
        "def find_outlier(integers):\n",
        "  even_count = 0\n",
        "  odd_count = 0\n",
        "\n",
        "  for num in integers:\n",
        "    if num % 2 == 0:\n",
        "      even_count += 1\n",
        "    else:\n",
        "      odd_count += 1\n",
        "\n",
        "  if even_count > 1:\n",
        "    return next(num for num in integers if num % 2 != 0)\n",
        "  else:\n",
        "    return next(num for num in integers if num % 2 == 0)        "
      ],
      "metadata": {
        "id": "ebdmVDG7aXti"
      },
      "execution_count": 28,
      "outputs": []
    },
    {
      "cell_type": "code",
      "source": [
        "print(find_outlier([44,94,90,94,12,78,90,34,5]))"
      ],
      "metadata": {
        "colab": {
          "base_uri": "https://localhost:8080/"
        },
        "id": "hg3kdz1Eva5F",
        "outputId": "79f4f3e3-50df-48bc-edee-3e06ac1fdaf3"
      },
      "execution_count": 35,
      "outputs": [
        {
          "output_type": "stream",
          "name": "stdout",
          "text": [
            "5\n"
          ]
        }
      ]
    },
    {
      "cell_type": "code",
      "source": [
        "print(find_outlier([51, 59, 57, 63,44, 45, 65, 85]))"
      ],
      "metadata": {
        "colab": {
          "base_uri": "https://localhost:8080/"
        },
        "id": "om25Se8Tvidc",
        "outputId": "8efd6ead-2ec1-41f8-d24b-50eb377e740a"
      },
      "execution_count": 36,
      "outputs": [
        {
          "output_type": "stream",
          "name": "stdout",
          "text": [
            "44\n"
          ]
        }
      ]
    },
    {
      "cell_type": "code",
      "source": [
        "def summary_range(nums):\n",
        "  ret, s = [], float('-inf')\n",
        "  for e, n in zip([s] + nums, nums + [-s]):\n",
        "    if n - e > 1:\n",
        "      ret.append(['{}', '{}->{}'][s<e].format(s,e))\n",
        "      s = n\n",
        "  return ret[1:]    "
      ],
      "metadata": {
        "id": "ZLtMn4DowEDN"
      },
      "execution_count": 37,
      "outputs": []
    },
    {
      "cell_type": "code",
      "source": [
        "nums = [1,2,3,4,5,9,8,7,6,5,4]\n",
        "\n",
        "print(summary_range(nums))"
      ],
      "metadata": {
        "colab": {
          "base_uri": "https://localhost:8080/"
        },
        "id": "b3yLsoEe_B48",
        "outputId": "1841ea29-736d-49db-a59c-5dd5328e76f4"
      },
      "execution_count": 40,
      "outputs": [
        {
          "output_type": "stream",
          "name": "stdout",
          "text": [
            "['1->5', '9']\n"
          ]
        }
      ]
    },
    {
      "cell_type": "code",
      "source": [
        "def is_pali(num):\n",
        "  num_str = str(num)\n",
        "  return num_str == num_str[::-1]\n"
      ],
      "metadata": {
        "id": "psZ4O49u_wZX"
      },
      "execution_count": 42,
      "outputs": []
    },
    {
      "cell_type": "code",
      "source": [
        "print(is_pali(963369))"
      ],
      "metadata": {
        "colab": {
          "base_uri": "https://localhost:8080/"
        },
        "id": "GIMtEr_WCDEz",
        "outputId": "61039ca5-bed8-4807-9c50-f99719fe380c"
      },
      "execution_count": 43,
      "outputs": [
        {
          "output_type": "stream",
          "name": "stdout",
          "text": [
            "True\n"
          ]
        }
      ]
    },
    {
      "cell_type": "code",
      "source": [],
      "metadata": {
        "id": "XZ5LwDtxCIs_"
      },
      "execution_count": null,
      "outputs": []
    }
  ]
}